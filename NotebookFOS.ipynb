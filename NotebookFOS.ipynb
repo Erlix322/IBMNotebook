{
    "nbformat_minor": 1, 
    "cells": [
        {
            "execution_count": 103, 
            "cell_type": "code", 
            "metadata": {
                "scrolled": false
            }, 
            "outputs": [
                {
                    "execution_count": 103, 
                    "metadata": {}, 
                    "data": {
                        "text/html": "<div>\n<style scoped>\n    .dataframe tbody tr th:only-of-type {\n        vertical-align: middle;\n    }\n\n    .dataframe tbody tr th {\n        vertical-align: top;\n    }\n\n    .dataframe thead th {\n        text-align: right;\n    }\n</style>\n<table border=\"1\" class=\"dataframe\">\n  <thead>\n    <tr style=\"text-align: right;\">\n      <th></th>\n      <th>Workstation</th>\n      <th>Endpoint</th>\n      <th>Value</th>\n      <th>Timestamp</th>\n    </tr>\n  </thead>\n  <tbody>\n    <tr>\n      <th>0</th>\n      <td>Ofen</td>\n      <td>dbVar.Analog.IN[0].rValue</td>\n      <td>37.601273</td>\n      <td>1529072842694</td>\n    </tr>\n    <tr>\n      <th>1</th>\n      <td>Ofen</td>\n      <td>dbVar.Analog.IN[0].rValue</td>\n      <td>37.811054</td>\n      <td>1529072843681</td>\n    </tr>\n    <tr>\n      <th>2</th>\n      <td>Ofen</td>\n      <td>dbVar.Analog.IN[0].rValue</td>\n      <td>37.984665</td>\n      <td>1529072844681</td>\n    </tr>\n    <tr>\n      <th>3</th>\n      <td>Ofen</td>\n      <td>dbVar.Analog.IN[0].rValue</td>\n      <td>38.158276</td>\n      <td>1529072846682</td>\n    </tr>\n    <tr>\n      <th>4</th>\n      <td>Ofen</td>\n      <td>dbVar.Analog.IN[0].rValue</td>\n      <td>38.158276</td>\n      <td>1529072846693</td>\n    </tr>\n  </tbody>\n</table>\n</div>", 
                        "text/plain": "  Workstation                   Endpoint      Value      Timestamp\n0        Ofen  dbVar.Analog.IN[0].rValue  37.601273  1529072842694\n1        Ofen  dbVar.Analog.IN[0].rValue  37.811054  1529072843681\n2        Ofen  dbVar.Analog.IN[0].rValue  37.984665  1529072844681\n3        Ofen  dbVar.Analog.IN[0].rValue  38.158276  1529072846682\n4        Ofen  dbVar.Analog.IN[0].rValue  38.158276  1529072846693"
                    }, 
                    "output_type": "execute_result"
                }
            ], 
            "source": "# The code was removed by DSX for sharing."
        }, 
        {
            "execution_count": 161, 
            "cell_type": "code", 
            "metadata": {}, 
            "outputs": [], 
            "source": "#Bereinige Datensatz um Duplikate\n\ndf_copy = df_data_1.assign(id=0,extrema=0)\ndf_copy = df_copy.drop_duplicates(subset=['Value'])\ndf_copy.head()\ndf_copy2 = df_copy\n#inkrement counter if period has ended\nct = 0\ntmp = 0\nflag = 1\n\nfor index, row in df_copy.iterrows():\n    if index == 0:\n        df_copy2.at[index,'extrema'] = -1\n    row['id'] = 2\n    if tmp < row['Value']:\n        if flag == 0:\n            ct = ct + 1\n            df_copy2.at[index,'extrema'] = -1\n        tmp = row['Value']\n        flag = 1\n        df_copy2.at[index,'id'] = ct\n    if tmp > row['Value']:\n        if flag == 1:            \n            ct = ct + 1            \n            df_copy2.at[index,'extrema'] = 1\n        tmp = row['Value']\n        flag = 0\n        df_copy2.at[index,'id'] = ct\n   \n\n#for index, row in df_copy.iterrows():\n#    print(row['id'],row['Value'], row['Timestamp'],row['extrema'])\n\n\n    "
        }, 
        {
            "execution_count": 170, 
            "cell_type": "code", 
            "metadata": {}, 
            "outputs": [], 
            "source": "#Bereinige Datensatz um Duplikate\n\ndf_copy = df_data_1.assign(id=0,extrema=0)\ndf_copy = df_copy.drop_duplicates(subset=['Value'])\ndf_copy.head()\ndf_copy2 = df_copy\n#inkrement counter if period has ended\nct = 0\ntmp = 0\nflag = 1\n\nfor row in df_copy.itertuples():\n    index = row.Index\n    if index == 0:\n        df_copy2.at[index,'extrema'] = -1\n    df_copy2.at[index,'id'] = 2\n    if tmp < row.Value:\n        if flag == 0:\n            ct = ct + 1\n            df_copy2.at[index,'extrema'] = -1\n        tmp = row.Value\n        flag = 1\n        df_copy2.at[index,'id'] = ct\n    if tmp > row.Value:\n        if flag == 1:            \n            ct = ct + 1            \n            df_copy2.at[index,'extrema'] = 1\n        tmp = row.Value\n        flag = 0\n        df_copy2.at[index,'id'] = ct\n\n\ndf_filtered = df_copy2[df_copy2['extrema'].map(lambda x: x != 0)]"
        }, 
        {
            "execution_count": 212, 
            "cell_type": "code", 
            "metadata": {
                "scrolled": true
            }, 
            "outputs": [
                {
                    "execution_count": 212, 
                    "metadata": {}, 
                    "data": {
                        "text/html": "<div>\n<style scoped>\n    .dataframe tbody tr th:only-of-type {\n        vertical-align: middle;\n    }\n\n    .dataframe tbody tr th {\n        vertical-align: top;\n    }\n\n    .dataframe thead th {\n        text-align: right;\n    }\n</style>\n<table border=\"1\" class=\"dataframe\">\n  <thead>\n    <tr style=\"text-align: right;\">\n      <th></th>\n      <th>Time</th>\n      <th>Type</th>\n    </tr>\n  </thead>\n  <tbody>\n    <tr>\n      <th>18</th>\n      <td>0.483117</td>\n      <td>1.0</td>\n    </tr>\n    <tr>\n      <th>42</th>\n      <td>1.216683</td>\n      <td>-1.0</td>\n    </tr>\n    <tr>\n      <th>52</th>\n      <td>0.166617</td>\n      <td>1.0</td>\n    </tr>\n    <tr>\n      <th>162</th>\n      <td>5.358733</td>\n      <td>-1.0</td>\n    </tr>\n    <tr>\n      <th>174</th>\n      <td>0.199667</td>\n      <td>1.0</td>\n    </tr>\n  </tbody>\n</table>\n</div>", 
                        "text/plain": "         Time  Type\n18   0.483117   1.0\n42   1.216683  -1.0\n52   0.166617   1.0\n162  5.358733  -1.0\n174  0.199667   1.0"
                    }, 
                    "output_type": "execute_result"
                }
            ], 
            "source": "d = {'Time':[] , 'Type': []}\ndf = pd.DataFrame(data=d)\n\ndf_filtered.head()\nprevious = 0\nfor row in df_filtered.itertuples():  \n    if previous != row.Index:    \n        t1 = df_filtered.at[previous,'Timestamp']\n        t2 = row.Timestamp\n        df.at[row.Index,'Time'] = (t2 - t1)/1000/60\n        df.at[row.Index,'Type'] = row.extrema\n        previous = row.Index\ndf.head()"
        }, 
        {
            "execution_count": 213, 
            "cell_type": "code", 
            "metadata": {}, 
            "outputs": [
                {
                    "execution_count": 213, 
                    "metadata": {}, 
                    "data": {
                        "text/plain": "{'asset_id': '5da680e2-f64f-4968-892e-da13d4955a75',\n 'bucket_name': 'fos2018-donotdelete-pr-l46fylvsu9y7bd',\n 'file_name': 'timespans.csv',\n 'message': 'File timespans.csv has been written successfully to the associated OS'}"
                    }, 
                    "output_type": "execute_result"
                }
            ], 
            "source": "# The code was removed by DSX for sharing."
        }, 
        {
            "execution_count": 167, 
            "cell_type": "code", 
            "metadata": {}, 
            "outputs": [
                {
                    "execution_count": 167, 
                    "metadata": {}, 
                    "data": {
                        "text/plain": "{'asset_id': 'e487cf22-8899-4060-a7e1-2aaa86eecd5a',\n 'bucket_name': 'fos2018-donotdelete-pr-l46fylvsu9y7bd',\n 'file_name': 'extrema_marked.csv',\n 'message': 'File extrema_marked.csv has been written successfully to the associated OS'}"
                    }, 
                    "output_type": "execute_result"
                }
            ], 
            "source": "# The code was removed by DSX for sharing."
        }, 
        {
            "execution_count": null, 
            "cell_type": "code", 
            "metadata": {}, 
            "outputs": [], 
            "source": ""
        }, 
        {
            "execution_count": null, 
            "cell_type": "code", 
            "metadata": {}, 
            "outputs": [], 
            "source": ""
        }
    ], 
    "metadata": {
        "kernelspec": {
            "display_name": "Python 3.5 with Spark 2.1", 
            "name": "python3-spark21", 
            "language": "python"
        }, 
        "language_info": {
            "mimetype": "text/x-python", 
            "nbconvert_exporter": "python", 
            "version": "3.5.4", 
            "name": "python", 
            "file_extension": ".py", 
            "pygments_lexer": "ipython3", 
            "codemirror_mode": {
                "version": 3, 
                "name": "ipython"
            }
        }
    }, 
    "nbformat": 4
}
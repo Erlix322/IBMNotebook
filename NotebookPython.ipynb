{
    "nbformat_minor": 1, 
    "cells": [
        {
            "execution_count": 11, 
            "cell_type": "code", 
            "metadata": {}, 
            "outputs": [
                {
                    "execution_count": 11, 
                    "metadata": {}, 
                    "data": {
                        "text/html": "<div>\n<style scoped>\n    .dataframe tbody tr th:only-of-type {\n        vertical-align: middle;\n    }\n\n    .dataframe tbody tr th {\n        vertical-align: top;\n    }\n\n    .dataframe thead th {\n        text-align: right;\n    }\n</style>\n<table border=\"1\" class=\"dataframe\">\n  <thead>\n    <tr style=\"text-align: right;\">\n      <th></th>\n      <th>Workstation</th>\n      <th>Endpoint</th>\n      <th>Value</th>\n      <th>Timestamp</th>\n    </tr>\n  </thead>\n  <tbody>\n    <tr>\n      <th>0</th>\n      <td>Ofen</td>\n      <td>dbVar.Analog.IN[0].rValue</td>\n      <td>37.601273</td>\n      <td>1529072842694</td>\n    </tr>\n    <tr>\n      <th>1</th>\n      <td>Ofen</td>\n      <td>dbVar.Analog.IN[0].rValue</td>\n      <td>37.811054</td>\n      <td>1529072843681</td>\n    </tr>\n    <tr>\n      <th>2</th>\n      <td>Ofen</td>\n      <td>dbVar.Analog.IN[0].rValue</td>\n      <td>37.984665</td>\n      <td>1529072844681</td>\n    </tr>\n    <tr>\n      <th>3</th>\n      <td>Ofen</td>\n      <td>dbVar.Analog.IN[0].rValue</td>\n      <td>38.158276</td>\n      <td>1529072846682</td>\n    </tr>\n    <tr>\n      <th>4</th>\n      <td>Ofen</td>\n      <td>dbVar.Analog.IN[0].rValue</td>\n      <td>38.158276</td>\n      <td>1529072846693</td>\n    </tr>\n  </tbody>\n</table>\n</div>", 
                        "text/plain": "  Workstation                   Endpoint      Value      Timestamp\n0        Ofen  dbVar.Analog.IN[0].rValue  37.601273  1529072842694\n1        Ofen  dbVar.Analog.IN[0].rValue  37.811054  1529072843681\n2        Ofen  dbVar.Analog.IN[0].rValue  37.984665  1529072844681\n3        Ofen  dbVar.Analog.IN[0].rValue  38.158276  1529072846682\n4        Ofen  dbVar.Analog.IN[0].rValue  38.158276  1529072846693"
                    }, 
                    "output_type": "execute_result"
                }
            ], 
            "source": "# The code was removed by DSX for sharing."
        }, 
        {
            "execution_count": 17, 
            "cell_type": "code", 
            "metadata": {}, 
            "outputs": [
                {
                    "execution_count": 17, 
                    "metadata": {}, 
                    "data": {
                        "text/html": "<div>\n<style scoped>\n    .dataframe tbody tr th:only-of-type {\n        vertical-align: middle;\n    }\n\n    .dataframe tbody tr th {\n        vertical-align: top;\n    }\n\n    .dataframe thead th {\n        text-align: right;\n    }\n</style>\n<table border=\"1\" class=\"dataframe\">\n  <thead>\n    <tr style=\"text-align: right;\">\n      <th></th>\n      <th>Workstation</th>\n      <th>Endpoint</th>\n      <th>Value</th>\n      <th>Timestamp</th>\n    </tr>\n  </thead>\n  <tbody>\n    <tr>\n      <th>0</th>\n      <td>Ofen</td>\n      <td>dbVar.Analog.IN[0].rValue</td>\n      <td>37.601273</td>\n      <td>2018-06-15 16:27:22.694000+02:00</td>\n    </tr>\n    <tr>\n      <th>1</th>\n      <td>Ofen</td>\n      <td>dbVar.Analog.IN[0].rValue</td>\n      <td>37.811054</td>\n      <td>2018-06-15 16:27:23.681000+02:00</td>\n    </tr>\n    <tr>\n      <th>2</th>\n      <td>Ofen</td>\n      <td>dbVar.Analog.IN[0].rValue</td>\n      <td>37.984665</td>\n      <td>2018-06-15 16:27:24.681000+02:00</td>\n    </tr>\n    <tr>\n      <th>3</th>\n      <td>Ofen</td>\n      <td>dbVar.Analog.IN[0].rValue</td>\n      <td>38.158276</td>\n      <td>2018-06-15 16:27:26.682000+02:00</td>\n    </tr>\n    <tr>\n      <th>4</th>\n      <td>Ofen</td>\n      <td>dbVar.Analog.IN[0].rValue</td>\n      <td>38.158276</td>\n      <td>2018-06-15 16:27:26.693000+02:00</td>\n    </tr>\n  </tbody>\n</table>\n</div>", 
                        "text/plain": "  Workstation                   Endpoint      Value  \\\n0        Ofen  dbVar.Analog.IN[0].rValue  37.601273   \n1        Ofen  dbVar.Analog.IN[0].rValue  37.811054   \n2        Ofen  dbVar.Analog.IN[0].rValue  37.984665   \n3        Ofen  dbVar.Analog.IN[0].rValue  38.158276   \n4        Ofen  dbVar.Analog.IN[0].rValue  38.158276   \n\n                         Timestamp  \n0 2018-06-15 16:27:22.694000+02:00  \n1 2018-06-15 16:27:23.681000+02:00  \n2 2018-06-15 16:27:24.681000+02:00  \n3 2018-06-15 16:27:26.682000+02:00  \n4 2018-06-15 16:27:26.693000+02:00  "
                    }, 
                    "output_type": "execute_result"
                }
            ], 
            "source": "\ndf_data_1['Timestamp'] = pd.to_datetime(df_data_1['Timestamp'],unit='ms')\ndf_data_1['Timestamp'] = df_data_1['Timestamp'].dt.tz_localize('UTC').dt.tz_convert('Europe/Berlin')\ndf_data_1.head()"
        }, 
        {
            "execution_count": 18, 
            "cell_type": "code", 
            "metadata": {}, 
            "outputs": [], 
            "source": "df_data_1.to_csv(\"pandas.csv\",index=False)"
        }, 
        {
            "execution_count": 19, 
            "cell_type": "code", 
            "metadata": {}, 
            "outputs": [
                {
                    "output_type": "stream", 
                    "name": "stderr", 
                    "text": "2018-06-25 07:36:01,196 - __PROJECT_LIB__ - ERROR - Project__save_data(): failed to save data! File with the name [file_name.csv] already exists in your object storage! Set the optional parameter 'overwrite' to True if you want to overwrite.\n"
                }, 
                {
                    "ename": "ValueError", 
                    "evalue": "Something went wrong! error message:Project__save_data(): failed to save data! File with the name [file_name.csv] already exists in your object storage! Set the optional parameter 'overwrite' to True if you want to overwrite.!", 
                    "traceback": [
                        "\u001b[0;31m---------------------------------------------------------------------------\u001b[0m", 
                        "\u001b[0;31mValueError\u001b[0m                                Traceback (most recent call last)", 
                        "\u001b[0;32m<ipython-input-19-a2be2452e710>\u001b[0m in \u001b[0;36m<module>\u001b[0;34m()\u001b[0m\n\u001b[1;32m      4\u001b[0m \u001b[0mproject\u001b[0m \u001b[0;34m=\u001b[0m \u001b[0mProject\u001b[0m\u001b[0;34m(\u001b[0m\u001b[0msc\u001b[0m\u001b[0;34m,\u001b[0m \u001b[0;34m'0902ba80-d3af-438f-84b7-4dc0b44ed749'\u001b[0m\u001b[0;34m,\u001b[0m \u001b[0;34m'p-044a39e69338d33eb24394f4cb4b31d83ffc2cde'\u001b[0m\u001b[0;34m)\u001b[0m\u001b[0;34m\u001b[0m\u001b[0m\n\u001b[1;32m      5\u001b[0m \u001b[0mpc\u001b[0m \u001b[0;34m=\u001b[0m \u001b[0mproject\u001b[0m\u001b[0;34m.\u001b[0m\u001b[0mproject_context\u001b[0m\u001b[0;34m\u001b[0m\u001b[0m\n\u001b[0;32m----> 6\u001b[0;31m \u001b[0mproject\u001b[0m\u001b[0;34m.\u001b[0m\u001b[0msave_data\u001b[0m\u001b[0;34m(\u001b[0m\u001b[0;34m\"file_name.csv\"\u001b[0m\u001b[0;34m,\u001b[0m \u001b[0mdf_data_1\u001b[0m\u001b[0;34m.\u001b[0m\u001b[0mto_csv\u001b[0m\u001b[0;34m(\u001b[0m\u001b[0;34m)\u001b[0m\u001b[0;34m)\u001b[0m\u001b[0;34m\u001b[0m\u001b[0m\n\u001b[0m", 
                        "\u001b[0;32m/usr/local/src/bluemix_jupyter_bundle.v86/notebook/lib/extra/project_lib/project.py\u001b[0m in \u001b[0;36msave_data\u001b[0;34m(self, file_name, data, set_project_asset, overwrite)\u001b[0m\n\u001b[1;32m    174\u001b[0m         \u001b[0;32mif\u001b[0m \u001b[0;34m(\u001b[0m\u001b[0mexists_in_os\u001b[0m \u001b[0;32mand\u001b[0m \u001b[0;34m(\u001b[0m\u001b[0;32mnot\u001b[0m \u001b[0moverwrite\u001b[0m\u001b[0;34m)\u001b[0m\u001b[0;34m)\u001b[0m\u001b[0;34m:\u001b[0m\u001b[0;34m\u001b[0m\u001b[0m\n\u001b[1;32m    175\u001b[0m             logger.log_error(\"Project__save_data(): failed to save data! File with the name [{}] already exists in your object storage!\".format(file_name) +\n\u001b[0;32m--> 176\u001b[0;31m                              \" Set the optional parameter 'overwrite' to True if you want to overwrite.\")\n\u001b[0m\u001b[1;32m    177\u001b[0m             \u001b[0;32mreturn\u001b[0m \u001b[0;32mNone\u001b[0m\u001b[0;34m\u001b[0m\u001b[0m\n\u001b[1;32m    178\u001b[0m         \u001b[0;31m# overwrite == True case is not needed because os will send a PUT request to replace it\u001b[0m\u001b[0;34m\u001b[0m\u001b[0;34m\u001b[0m\u001b[0m\n", 
                        "\u001b[0;32m/usr/local/src/bluemix_jupyter_bundle.v86/notebook/lib/extra/project_lib/utils/logger.py\u001b[0m in \u001b[0;36mlog_error\u001b[0;34m(self, err_msg)\u001b[0m\n\u001b[1;32m     36\u001b[0m             \u001b[0mself\u001b[0m\u001b[0;34m.\u001b[0m\u001b[0mlogger\u001b[0m\u001b[0;34m.\u001b[0m\u001b[0merror\u001b[0m\u001b[0;34m(\u001b[0m\u001b[0merr_msg\u001b[0m\u001b[0;34m)\u001b[0m\u001b[0;34m\u001b[0m\u001b[0m\n\u001b[1;32m     37\u001b[0m         \u001b[0;32mif\u001b[0m \u001b[0;34m(\u001b[0m\u001b[0mself\u001b[0m\u001b[0;34m.\u001b[0m\u001b[0m_throwable\u001b[0m\u001b[0;34m)\u001b[0m\u001b[0;34m:\u001b[0m\u001b[0;34m\u001b[0m\u001b[0m\n\u001b[0;32m---> 38\u001b[0;31m             \u001b[0;32mraise\u001b[0m \u001b[0mValueError\u001b[0m\u001b[0;34m(\u001b[0m\u001b[0;34m\"Something went wrong! error message:{}!\"\u001b[0m\u001b[0;34m.\u001b[0m\u001b[0mformat\u001b[0m\u001b[0;34m(\u001b[0m\u001b[0merr_msg\u001b[0m\u001b[0;34m)\u001b[0m\u001b[0;34m)\u001b[0m\u001b[0;34m\u001b[0m\u001b[0m\n\u001b[0m\u001b[1;32m     39\u001b[0m \u001b[0;34m\u001b[0m\u001b[0m\n\u001b[1;32m     40\u001b[0m     \u001b[0;32mdef\u001b[0m \u001b[0mlog_response_error\u001b[0m\u001b[0;34m(\u001b[0m\u001b[0mself\u001b[0m\u001b[0;34m,\u001b[0m \u001b[0mmodule_name\u001b[0m\u001b[0;34m,\u001b[0m \u001b[0mres_status_code\u001b[0m\u001b[0;34m,\u001b[0m \u001b[0mres_text\u001b[0m\u001b[0;34m)\u001b[0m\u001b[0;34m:\u001b[0m\u001b[0;34m\u001b[0m\u001b[0m\n", 
                        "\u001b[0;31mValueError\u001b[0m: Something went wrong! error message:Project__save_data(): failed to save data! File with the name [file_name.csv] already exists in your object storage! Set the optional parameter 'overwrite' to True if you want to overwrite.!"
                    ], 
                    "output_type": "error"
                }
            ], 
            "source": "# The code was removed by DSX for sharing."
        }, 
        {
            "execution_count": null, 
            "cell_type": "code", 
            "metadata": {}, 
            "outputs": [], 
            "source": "\n\n"
        }
    ], 
    "metadata": {
        "kernelspec": {
            "display_name": "Python 3.5 with Spark 2.1", 
            "name": "python3-spark21", 
            "language": "python"
        }, 
        "language_info": {
            "mimetype": "text/x-python", 
            "nbconvert_exporter": "python", 
            "version": "3.5.4", 
            "name": "python", 
            "file_extension": ".py", 
            "pygments_lexer": "ipython3", 
            "codemirror_mode": {
                "version": 3, 
                "name": "ipython"
            }
        }
    }, 
    "nbformat": 4
}
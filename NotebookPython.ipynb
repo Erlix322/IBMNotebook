{
    "nbformat_minor": 1, 
    "cells": [
        {
            "execution_count": 11, 
            "cell_type": "code", 
            "metadata": {}, 
            "outputs": [
                {
                    "execution_count": 11, 
                    "metadata": {}, 
                    "data": {
                        "text/html": "<div>\n<style scoped>\n    .dataframe tbody tr th:only-of-type {\n        vertical-align: middle;\n    }\n\n    .dataframe tbody tr th {\n        vertical-align: top;\n    }\n\n    .dataframe thead th {\n        text-align: right;\n    }\n</style>\n<table border=\"1\" class=\"dataframe\">\n  <thead>\n    <tr style=\"text-align: right;\">\n      <th></th>\n      <th>Workstation</th>\n      <th>Endpoint</th>\n      <th>Value</th>\n      <th>Timestamp</th>\n    </tr>\n  </thead>\n  <tbody>\n    <tr>\n      <th>0</th>\n      <td>Ofen</td>\n      <td>dbVar.Analog.IN[0].rValue</td>\n      <td>37.601273</td>\n      <td>1529072842694</td>\n    </tr>\n    <tr>\n      <th>1</th>\n      <td>Ofen</td>\n      <td>dbVar.Analog.IN[0].rValue</td>\n      <td>37.811054</td>\n      <td>1529072843681</td>\n    </tr>\n    <tr>\n      <th>2</th>\n      <td>Ofen</td>\n      <td>dbVar.Analog.IN[0].rValue</td>\n      <td>37.984665</td>\n      <td>1529072844681</td>\n    </tr>\n    <tr>\n      <th>3</th>\n      <td>Ofen</td>\n      <td>dbVar.Analog.IN[0].rValue</td>\n      <td>38.158276</td>\n      <td>1529072846682</td>\n    </tr>\n    <tr>\n      <th>4</th>\n      <td>Ofen</td>\n      <td>dbVar.Analog.IN[0].rValue</td>\n      <td>38.158276</td>\n      <td>1529072846693</td>\n    </tr>\n  </tbody>\n</table>\n</div>", 
                        "text/plain": "  Workstation                   Endpoint      Value      Timestamp\n0        Ofen  dbVar.Analog.IN[0].rValue  37.601273  1529072842694\n1        Ofen  dbVar.Analog.IN[0].rValue  37.811054  1529072843681\n2        Ofen  dbVar.Analog.IN[0].rValue  37.984665  1529072844681\n3        Ofen  dbVar.Analog.IN[0].rValue  38.158276  1529072846682\n4        Ofen  dbVar.Analog.IN[0].rValue  38.158276  1529072846693"
                    }, 
                    "output_type": "execute_result"
                }
            ], 
            "source": "# The code was removed by DSX for sharing."
        }, 
        {
            "execution_count": 13, 
            "cell_type": "code", 
            "metadata": {}, 
            "outputs": [
                {
                    "execution_count": 13, 
                    "metadata": {}, 
                    "data": {
                        "text/html": "<div>\n<style scoped>\n    .dataframe tbody tr th:only-of-type {\n        vertical-align: middle;\n    }\n\n    .dataframe tbody tr th {\n        vertical-align: top;\n    }\n\n    .dataframe thead th {\n        text-align: right;\n    }\n</style>\n<table border=\"1\" class=\"dataframe\">\n  <thead>\n    <tr style=\"text-align: right;\">\n      <th></th>\n      <th>Workstation</th>\n      <th>Endpoint</th>\n      <th>Value</th>\n      <th>Timestamp</th>\n    </tr>\n  </thead>\n  <tbody>\n    <tr>\n      <th>0</th>\n      <td>Ofen</td>\n      <td>dbVar.Analog.IN[0].rValue</td>\n      <td>37.601273</td>\n      <td>2018-06-15 14:27:22.694</td>\n    </tr>\n    <tr>\n      <th>1</th>\n      <td>Ofen</td>\n      <td>dbVar.Analog.IN[0].rValue</td>\n      <td>37.811054</td>\n      <td>2018-06-15 14:27:23.681</td>\n    </tr>\n    <tr>\n      <th>2</th>\n      <td>Ofen</td>\n      <td>dbVar.Analog.IN[0].rValue</td>\n      <td>37.984665</td>\n      <td>2018-06-15 14:27:24.681</td>\n    </tr>\n    <tr>\n      <th>3</th>\n      <td>Ofen</td>\n      <td>dbVar.Analog.IN[0].rValue</td>\n      <td>38.158276</td>\n      <td>2018-06-15 14:27:26.682</td>\n    </tr>\n    <tr>\n      <th>4</th>\n      <td>Ofen</td>\n      <td>dbVar.Analog.IN[0].rValue</td>\n      <td>38.158276</td>\n      <td>2018-06-15 14:27:26.693</td>\n    </tr>\n  </tbody>\n</table>\n</div>", 
                        "text/plain": "  Workstation                   Endpoint      Value               Timestamp\n0        Ofen  dbVar.Analog.IN[0].rValue  37.601273 2018-06-15 14:27:22.694\n1        Ofen  dbVar.Analog.IN[0].rValue  37.811054 2018-06-15 14:27:23.681\n2        Ofen  dbVar.Analog.IN[0].rValue  37.984665 2018-06-15 14:27:24.681\n3        Ofen  dbVar.Analog.IN[0].rValue  38.158276 2018-06-15 14:27:26.682\n4        Ofen  dbVar.Analog.IN[0].rValue  38.158276 2018-06-15 14:27:26.693"
                    }, 
                    "output_type": "execute_result"
                }
            ], 
            "source": "\ndf_data_1['Timestamp'] = pd.to_datetime(df_data_1['Timestamp'],unit='ms')\ndf_data_1['Timestamp'] = df_data_1[.dt.tz_localize('UTC').dt.tz_convert('Asia/Kolkata')\ndf_data_1.head()"
        }, 
        {
            "execution_count": 15, 
            "cell_type": "code", 
            "metadata": {}, 
            "outputs": [], 
            "source": "df_data_1.to_csv(\"pandas.csv\",index=False)"
        }, 
        {
            "execution_count": 16, 
            "cell_type": "code", 
            "metadata": {}, 
            "outputs": [
                {
                    "execution_count": 16, 
                    "metadata": {}, 
                    "data": {
                        "text/plain": "{'asset_id': '681afa87-69a8-45e8-83b5-21611bb29cb6',\n 'bucket_name': 'fos2018-donotdelete-pr-l46fylvsu9y7bd',\n 'file_name': 'file_name.csv',\n 'message': 'File file_name.csv has been written successfully to the associated OS'}"
                    }, 
                    "output_type": "execute_result"
                }
            ], 
            "source": "# The code was removed by DSX for sharing."
        }, 
        {
            "execution_count": null, 
            "cell_type": "code", 
            "metadata": {}, 
            "outputs": [], 
            "source": "\n\n"
        }
    ], 
    "metadata": {
        "kernelspec": {
            "display_name": "Python 3.5 with Spark 2.1", 
            "name": "python3-spark21", 
            "language": "python"
        }, 
        "language_info": {
            "mimetype": "text/x-python", 
            "nbconvert_exporter": "python", 
            "version": "3.5.4", 
            "name": "python", 
            "file_extension": ".py", 
            "pygments_lexer": "ipython3", 
            "codemirror_mode": {
                "version": 3, 
                "name": "ipython"
            }
        }
    }, 
    "nbformat": 4
}